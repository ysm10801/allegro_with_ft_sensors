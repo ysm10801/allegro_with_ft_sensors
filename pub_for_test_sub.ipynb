{
 "cells": [
  {
   "cell_type": "code",
   "execution_count": 1,
   "metadata": {},
   "outputs": [],
   "source": [
    "import rospy"
   ]
  },
  {
   "cell_type": "code",
   "execution_count": 2,
   "metadata": {},
   "outputs": [],
   "source": [
    "from std_msgs.msg import Float64MultiArray"
   ]
  },
  {
   "cell_type": "code",
   "execution_count": 3,
   "metadata": {},
   "outputs": [],
   "source": [
    "HAND_STOP = 0\n",
    "HAND_POSES = 1\n",
    "HAND_P_GAINS = 2\n",
    "HAND_D_GAINS = 3"
   ]
  },
  {
   "cell_type": "code",
   "execution_count": 4,
   "metadata": {},
   "outputs": [],
   "source": [
    "node = rospy.init_node('test', anonymous=True)"
   ]
  },
  {
   "cell_type": "code",
   "execution_count": 5,
   "metadata": {},
   "outputs": [],
   "source": [
    "test_pub = rospy.Publisher('/allegro_joint_desired', Float64MultiArray, queue_size=1)"
   ]
  },
  {
   "cell_type": "code",
   "execution_count": 6,
   "metadata": {},
   "outputs": [],
   "source": [
    "msg = Float64MultiArray()"
   ]
  },
  {
   "cell_type": "code",
   "execution_count": 7,
   "metadata": {},
   "outputs": [],
   "source": [
    "# Hands PD Gain\n",
    "# msg.layout.data_offset = HAND_P_GAINS\n",
    "\n",
    "msg.data = [-0.1220, 0.4, 0.6, -0.0769,\n",
    "\t0.0312, 0.4, 0.6, -0.0,\n",
    "\t0.1767, 0.4, 0.6, -0.0528,\n",
    "\t0.5284, 0.3693, 0.8977, 0.4863]"
   ]
  },
  {
   "cell_type": "code",
   "execution_count": 18,
   "metadata": {},
   "outputs": [],
   "source": [
    "# Allegro Hands Configuration\n",
    "\n",
    "msg.layout.data_offset = HAND_POSES\n",
    "\n",
    "msg.data = [-0.1220, 0.4, 0.6, -0.0769,\n",
    "\t0.0312, 0.4, 0.6, -0.0,\n",
    "\t0.1767, 0.4, 0.6, -0.0528,\n",
    "\t0.5284, 0.3693, 0.8977, 0.4863]"
   ]
  },
  {
   "cell_type": "code",
   "execution_count": 14,
   "metadata": {},
   "outputs": [],
   "source": [
    "msg.layout.data_offset = HAND_P_GAINS\n",
    "\n",
    "msg.data = [1500, 2400, 2700, 1500,\n",
    "\t\t1500, 2400, 2700, 1500,\n",
    "\t\t1500, 2400, 2700, 1500,\n",
    "\t\t3000, 2100, 1800, 1800]"
   ]
  },
  {
   "cell_type": "code",
   "execution_count": 20,
   "metadata": {},
   "outputs": [],
   "source": [
    "msg.layout.data_offset = HAND_STOP"
   ]
  },
  {
   "cell_type": "code",
   "execution_count": 19,
   "metadata": {},
   "outputs": [],
   "source": [
    "test_pub.publish(msg)"
   ]
  },
  {
   "cell_type": "code",
   "execution_count": 25,
   "metadata": {},
   "outputs": [],
   "source": [
    "msg.data = [100.1220, 0.4, 0.6, -0.0769,\n",
    "\t0.0312, 0.4, 0.6, -0.0,\n",
    "\t0.1767, 0.4, 0.6, -0.0528,\n",
    "\t0.5284, 0.3693, 0.8977, 0.4863]"
   ]
  },
  {
   "cell_type": "code",
   "execution_count": null,
   "metadata": {},
   "outputs": [],
   "source": []
  }
 ],
 "metadata": {
  "kernelspec": {
   "display_name": "icp",
   "language": "python",
   "name": "python3"
  },
  "language_info": {
   "codemirror_mode": {
    "name": "ipython",
    "version": 3
   },
   "file_extension": ".py",
   "mimetype": "text/x-python",
   "name": "python",
   "nbconvert_exporter": "python",
   "pygments_lexer": "ipython3",
   "version": "3.8.17"
  }
 },
 "nbformat": 4,
 "nbformat_minor": 2
}
