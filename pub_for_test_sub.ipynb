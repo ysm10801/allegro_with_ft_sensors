{
 "cells": [
  {
   "cell_type": "code",
   "execution_count": 1,
   "metadata": {},
   "outputs": [],
   "source": [
    "import rospy\n",
    "import time\n",
    "import numpy as np"
   ]
  },
  {
   "cell_type": "code",
   "execution_count": 2,
   "metadata": {},
   "outputs": [],
   "source": [
    "from std_msgs.msg import Float64MultiArray"
   ]
  },
  {
   "cell_type": "code",
   "execution_count": 3,
   "metadata": {},
   "outputs": [],
   "source": [
    "HAND_STOP = 0\n",
    "HAND_POSES = 1\n",
    "HAND_P_GAINS = 2\n",
    "HAND_D_GAINS = 3\n",
    "GRAVITY_COMP = 4\n",
    "HAND_GRASP = 5"
   ]
  },
  {
   "cell_type": "code",
   "execution_count": 4,
   "metadata": {},
   "outputs": [],
   "source": [
    "node = rospy.init_node('test', anonymous=True)"
   ]
  },
  {
   "cell_type": "code",
   "execution_count": 5,
   "metadata": {},
   "outputs": [],
   "source": [
    "test_pub = rospy.Publisher('/allegro_joint_desired', Float64MultiArray, queue_size=1)"
   ]
  },
  {
   "cell_type": "code",
   "execution_count": 6,
   "metadata": {},
   "outputs": [],
   "source": [
    "msg = Float64MultiArray()"
   ]
  },
  {
   "cell_type": "code",
   "execution_count": 7,
   "metadata": {},
   "outputs": [],
   "source": [
    "# Hands PD Gain\n",
    "# msg.layout.data_offset = HAND_P_GAINS\n",
    "\n",
    "msg.data = [-0.1220, 0.4, 0.6, -0.0769,\n",
    "\t0.0312, 0.4, 0.6, -0.0,\n",
    "\t0.1767, 0.4, 0.6, -0.0528,\n",
    "\t0.5284, 0.3693, 0.8977, 0.4863]"
   ]
  },
  {
   "cell_type": "code",
   "execution_count": 72,
   "metadata": {},
   "outputs": [],
   "source": [
    "# Allegro Hands Configuration\n",
    "\n",
    "msg.layout.data_offset = HAND_POSES\n",
    "\n",
    "msg.data = [-0.1220, 0.4, 0.6, -0.0769,\n",
    "\t0.0312, 0.4, 0.6, -0.0,\n",
    "\t0.1767, 0.4, 0.6, -0.0528,\n",
    "\t0.5284, 0.3693, 0.8977, 0.4863]"
   ]
  },
  {
   "cell_type": "code",
   "execution_count": 108,
   "metadata": {},
   "outputs": [],
   "source": [
    "msg.layout.data_offset = HAND_P_GAINS\n",
    "\n",
    "msg.data = [500, 800, 900, 500,\n",
    "    500, 800, 900, 500,\n",
    "    500, 800, 900, 500,\n",
    "    1000, 700, 600, 600]"
   ]
  },
  {
   "cell_type": "code",
   "execution_count": 112,
   "metadata": {},
   "outputs": [],
   "source": [
    "msg.layout.data_offset = HAND_P_GAINS\n",
    "\n",
    "msg.data = [1500, 2400, 2700, 1500,\n",
    "\t\t1500, 2400, 2700, 1500,\n",
    "\t\t1500, 2400, 2700, 1500,\n",
    "\t\t3000, 2100, 1800, 1800]\n"
   ]
  },
  {
   "cell_type": "code",
   "execution_count": 104,
   "metadata": {},
   "outputs": [],
   "source": [
    "msg.layout.data_offset = HAND_STOP"
   ]
  },
  {
   "cell_type": "code",
   "execution_count": 115,
   "metadata": {},
   "outputs": [],
   "source": [
    "test_pub.publish(msg)"
   ]
  },
  {
   "cell_type": "code",
   "execution_count": 114,
   "metadata": {},
   "outputs": [],
   "source": [
    "msg.layout.data_offset = GRAVITY_COMP"
   ]
  },
  {
   "cell_type": "code",
   "execution_count": 26,
   "metadata": {},
   "outputs": [],
   "source": [
    "msg.layout.data_offset = HAND_GRASP"
   ]
  },
  {
   "cell_type": "code",
   "execution_count": 50,
   "metadata": {},
   "outputs": [],
   "source": [
    "#Pose generation\n",
    "\n",
    "t=0\n",
    "\n",
    "msg.layout.data_offset = HAND_POSES\n",
    "\n",
    "x1= np.array([-0.1220, 0.4, 0.6, -0.0769,\n",
    "\t0.0312, 0.4, 0.6, -0.0,\n",
    "\t0.1767, 0.4, 0.6, -0.0528,\n",
    "\t0.5284, 0.3693, 0.8977, 0.4863])\n",
    "\n",
    "x2 = np.array([0.1661, 0.2471, 1.5590, 1.1893,\n",
    "0.0471,-0.2781, -0.2742, -0.2711, \n",
    "0.2087, -0.2468, -0.2810, -0.2774, \n",
    "1.1528, -0.06089, 0.8730, 0.9175])\n",
    "\n",
    "\n",
    "for t in range(20000):\n",
    "    x_new = x1 + t * (x2 - x1)*0.00005\n",
    "    x_pos = x_new.tolist()\n",
    "    msg.data = x_pos\n",
    "    test_pub.publish(msg)\n",
    "    time.sleep(0.00005)"
   ]
  },
  {
   "cell_type": "code",
   "execution_count": 33,
   "metadata": {},
   "outputs": [],
   "source": [
    "test_grasp_config = []"
   ]
  },
  {
   "cell_type": "code",
   "execution_count": null,
   "metadata": {},
   "outputs": [],
   "source": [
    "def callback(config_msg):\n",
    "    test_grasp_config = config_msg.data"
   ]
  },
  {
   "cell_type": "code",
   "execution_count": null,
   "metadata": {},
   "outputs": [],
   "source": [
    "test_sub = rospy.Subscriber('allegro_joint_configurations',Float64MultiArray, callback, queue_size=7)"
   ]
  },
  {
   "cell_type": "code",
   "execution_count": 116,
   "metadata": {},
   "outputs": [],
   "source": [
    "msg.layout.data_offset = HAND_POSES\n",
    "\n",
    "msg.data = [0.0868, -0.2948, -0.2686, 0.5768,\n",
    "-0.04745, -0.2785, -0.2763, -0.2718,\n",
    "0.1536, -0.3013, -0.1660, -0.2745,\n",
    "0.6163, -0.0499, -0.2596, 1.0497]\n"
   ]
  },
  {
   "cell_type": "code",
   "execution_count": null,
   "metadata": {},
   "outputs": [],
   "source": []
  },
  {
   "cell_type": "code",
   "execution_count": 121,
   "metadata": {},
   "outputs": [],
   "source": [
    "test_pub.publish(msg)"
   ]
  },
  {
   "cell_type": "code",
   "execution_count": 120,
   "metadata": {},
   "outputs": [],
   "source": [
    "msg.layout.data_offset = HAND_STOP"
   ]
  },
  {
   "cell_type": "code",
   "execution_count": null,
   "metadata": {},
   "outputs": [],
   "source": [
    "msg.layout.data_offset = HAND_P_GAINS\n",
    "\n",
    "msg.data = [500, 800, 900, 500,\n",
    "    500, 800, 900, 500,\n",
    "    500, 800, 900, 500,\n",
    "    1000, 700, 600, 600]"
   ]
  }
 ],
 "metadata": {
  "kernelspec": {
   "display_name": "icp",
   "language": "python",
   "name": "python3"
  },
  "language_info": {
   "codemirror_mode": {
    "name": "ipython",
    "version": 3
   },
   "file_extension": ".py",
   "mimetype": "text/x-python",
   "name": "python",
   "nbconvert_exporter": "python",
   "pygments_lexer": "ipython3",
   "version": "3.8.18"
  }
 },
 "nbformat": 4,
 "nbformat_minor": 2
}
